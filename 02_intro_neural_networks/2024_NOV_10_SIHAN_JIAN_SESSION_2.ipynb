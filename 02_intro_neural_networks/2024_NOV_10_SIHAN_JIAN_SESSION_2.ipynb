{
  "nbformat": 4,
  "nbformat_minor": 0,
  "metadata": {
    "colab": {
      "provenance": []
    },
    "kernelspec": {
      "name": "python3",
      "display_name": "Python 3"
    },
    "language_info": {
      "name": "python"
    }
  },
  "cells": [
    {
      "cell_type": "markdown",
      "source": [
        "Compare the quality of your model when using different:\n",
        "\n",
        "batch sizes,\n",
        "\n",
        "learning rates,\n",
        "\n",
        "activation functions.\n",
        "\n",
        "\n",
        "Bonus: What is a learning rate scheduler?\n",
        "\n",
        "If you have time, experiment with how to improve the model. Note: training and validation data can be used to compare models, but test data should be saved until the end as a final check of generalization."
      ],
      "metadata": {
        "id": "7yIT0cC662dM"
      }
    },
    {
      "cell_type": "code",
      "execution_count": 1,
      "metadata": {
        "id": "uheWMhbU6m3b",
        "colab": {
          "base_uri": "https://localhost:8080/"
        },
        "outputId": "307ebb3f-f628-4faa-afde-97296bba0896"
      },
      "outputs": [
        {
          "output_type": "stream",
          "name": "stdout",
          "text": [
            "Downloading http://yann.lecun.com/exdb/mnist/train-images-idx3-ubyte.gz\n",
            "Failed to download (trying next):\n",
            "HTTP Error 403: Forbidden\n",
            "\n",
            "Downloading https://ossci-datasets.s3.amazonaws.com/mnist/train-images-idx3-ubyte.gz\n",
            "Downloading https://ossci-datasets.s3.amazonaws.com/mnist/train-images-idx3-ubyte.gz to data/MNIST/raw/train-images-idx3-ubyte.gz\n"
          ]
        },
        {
          "output_type": "stream",
          "name": "stderr",
          "text": [
            "100%|██████████| 9.91M/9.91M [00:01<00:00, 5.28MB/s]\n"
          ]
        },
        {
          "output_type": "stream",
          "name": "stdout",
          "text": [
            "Extracting data/MNIST/raw/train-images-idx3-ubyte.gz to data/MNIST/raw\n",
            "\n",
            "Downloading http://yann.lecun.com/exdb/mnist/train-labels-idx1-ubyte.gz\n",
            "Failed to download (trying next):\n",
            "HTTP Error 403: Forbidden\n",
            "\n",
            "Downloading https://ossci-datasets.s3.amazonaws.com/mnist/train-labels-idx1-ubyte.gz\n",
            "Downloading https://ossci-datasets.s3.amazonaws.com/mnist/train-labels-idx1-ubyte.gz to data/MNIST/raw/train-labels-idx1-ubyte.gz\n"
          ]
        },
        {
          "output_type": "stream",
          "name": "stderr",
          "text": [
            "100%|██████████| 28.9k/28.9k [00:00<00:00, 156kB/s]\n"
          ]
        },
        {
          "output_type": "stream",
          "name": "stdout",
          "text": [
            "Extracting data/MNIST/raw/train-labels-idx1-ubyte.gz to data/MNIST/raw\n",
            "\n",
            "Downloading http://yann.lecun.com/exdb/mnist/t10k-images-idx3-ubyte.gz\n",
            "Failed to download (trying next):\n",
            "HTTP Error 403: Forbidden\n",
            "\n",
            "Downloading https://ossci-datasets.s3.amazonaws.com/mnist/t10k-images-idx3-ubyte.gz\n",
            "Downloading https://ossci-datasets.s3.amazonaws.com/mnist/t10k-images-idx3-ubyte.gz to data/MNIST/raw/t10k-images-idx3-ubyte.gz\n"
          ]
        },
        {
          "output_type": "stream",
          "name": "stderr",
          "text": [
            "100%|██████████| 1.65M/1.65M [00:01<00:00, 1.45MB/s]\n"
          ]
        },
        {
          "output_type": "stream",
          "name": "stdout",
          "text": [
            "Extracting data/MNIST/raw/t10k-images-idx3-ubyte.gz to data/MNIST/raw\n",
            "\n",
            "Downloading http://yann.lecun.com/exdb/mnist/t10k-labels-idx1-ubyte.gz\n",
            "Failed to download (trying next):\n",
            "HTTP Error 403: Forbidden\n",
            "\n",
            "Downloading https://ossci-datasets.s3.amazonaws.com/mnist/t10k-labels-idx1-ubyte.gz\n",
            "Downloading https://ossci-datasets.s3.amazonaws.com/mnist/t10k-labels-idx1-ubyte.gz to data/MNIST/raw/t10k-labels-idx1-ubyte.gz\n"
          ]
        },
        {
          "output_type": "stream",
          "name": "stderr",
          "text": [
            "100%|██████████| 4.54k/4.54k [00:00<00:00, 7.37MB/s]\n"
          ]
        },
        {
          "output_type": "stream",
          "name": "stdout",
          "text": [
            "Extracting data/MNIST/raw/t10k-labels-idx1-ubyte.gz to data/MNIST/raw\n",
            "\n",
            "Epoch [1/5], Loss: 0.2810\n",
            "Epoch [2/5], Loss: 0.1868\n",
            "Epoch [3/5], Loss: 0.1600\n",
            "Epoch [4/5], Loss: 0.1470\n",
            "Epoch [5/5], Loss: 0.1340\n",
            "Validation Accuracy: 95.75%\n",
            "Epoch [1/5], Loss: 0.3692\n",
            "Epoch [2/5], Loss: 0.1549\n",
            "Epoch [3/5], Loss: 0.1065\n",
            "Epoch [4/5], Loss: 0.0774\n",
            "Epoch [5/5], Loss: 0.0586\n",
            "Validation Accuracy: 97.33%\n",
            "Epoch [1/5], Loss: 0.4721\n",
            "Epoch [2/5], Loss: 0.1451\n",
            "Epoch [3/5], Loss: 0.0953\n",
            "Epoch [4/5], Loss: 0.0679\n",
            "Epoch [5/5], Loss: 0.0488\n",
            "Validation Accuracy: 97.15%\n"
          ]
        }
      ],
      "source": [
        "import torch\n",
        "import torchvision\n",
        "from torch import nn, optim\n",
        "from torch.utils.data import DataLoader\n",
        "import matplotlib.pyplot as plt\n",
        "\n",
        "def train_model(batch_size=64, learning_rate=0.001, activation_function=nn.ReLU):\n",
        "    # Load the MNIST dataset\n",
        "    train_dataset = torchvision.datasets.MNIST(\n",
        "        root=\"data\",\n",
        "        train=True,\n",
        "        download=True,\n",
        "        transform=torchvision.transforms.ToTensor()\n",
        "    )\n",
        "\n",
        "    train_size = int(0.8 * len(train_dataset))\n",
        "    val_size = len(train_dataset) - train_size\n",
        "    train_data, val_data = torch.utils.data.random_split(\n",
        "        train_dataset, [train_size, val_size], generator=torch.Generator().manual_seed(55)\n",
        "    )\n",
        "\n",
        "    train_loader = DataLoader(train_data, batch_size=batch_size, shuffle=True)\n",
        "    val_loader = DataLoader(val_data, batch_size=batch_size, shuffle=False)\n",
        "\n",
        "    # Define the model\n",
        "    class SimpleNN(nn.Module):\n",
        "        def __init__(self):\n",
        "            super(SimpleNN, self).__init__()\n",
        "            self.flatten = nn.Flatten()\n",
        "            self.layer1 = nn.Linear(28 * 28, 128)\n",
        "            self.activation1 = activation_function()\n",
        "            self.layer2 = nn.Linear(128, 64)\n",
        "            self.activation2 = activation_function()\n",
        "            self.output = nn.Linear(64, 10)\n",
        "\n",
        "        def forward(self, x):\n",
        "            x = self.flatten(x)\n",
        "            x = self.activation1(self.layer1(x))\n",
        "            x = self.activation2(self.layer2(x))\n",
        "            x = self.output(x)\n",
        "            return x\n",
        "\n",
        "    model = SimpleNN()\n",
        "    criterion = nn.CrossEntropyLoss()\n",
        "    optimizer = optim.Adam(model.parameters(), lr=learning_rate)\n",
        "\n",
        "    # Training loop\n",
        "    num_epochs = 5\n",
        "    for epoch in range(num_epochs):\n",
        "        model.train()\n",
        "        running_loss = 0.0\n",
        "        for images, labels in train_loader:\n",
        "            optimizer.zero_grad()\n",
        "            outputs = model(images)\n",
        "            loss = criterion(outputs, labels)\n",
        "            loss.backward()\n",
        "            optimizer.step()\n",
        "            running_loss += loss.item()\n",
        "\n",
        "        print(f\"Epoch [{epoch+1}/{num_epochs}], Loss: {running_loss/len(train_loader):.4f}\")\n",
        "\n",
        "    # Validation loop\n",
        "    model.eval()\n",
        "    correct = 0\n",
        "    total = 0\n",
        "    with torch.no_grad():\n",
        "        for images, labels in val_loader:\n",
        "            outputs = model(images)\n",
        "            _, predicted = torch.max(outputs.data, 1)\n",
        "            total += labels.size(0)\n",
        "            correct += (predicted == labels).sum().item()\n",
        "\n",
        "    accuracy = 100 * correct / total\n",
        "    print(f\"Validation Accuracy: {accuracy:.2f}%\")\n",
        "\n",
        "# Example runs for comparing different configurations\n",
        "train_model(batch_size=32, learning_rate=0.01, activation_function=nn.ReLU)\n",
        "train_model(batch_size=64, learning_rate=0.001, activation_function=nn.Tanh)\n",
        "train_model(batch_size=128, learning_rate=0.005, activation_function=nn.Sigmoid)"
      ]
    }
  ]
}